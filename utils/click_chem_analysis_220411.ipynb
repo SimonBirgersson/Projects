{
 "cells": [
  {
   "cell_type": "markdown",
   "metadata": {},
   "source": [
    "## MALDI-ToF analysis of Click chem reaction\n",
    "\n",
    " carried out on 220411 at CAS\n",
    "\n",
    "Reactants:\n",
    "\n",
    "    Thiol group: Hexanethiol, 15mM\n",
    "\n",
    "    -ene group: allyl-alpha-M1, 5mM\n",
    "\n",
    "    photo-initiator (pI): 1.5mM\n",
    "\n",
    "Reaction conditions:\n",
    "\n",
    "    solvent: met-OH\n",
    "\n",
    "    temp: RT\n",
    "\n",
    "    time points: [0, 1, 2, 4] hours\n",
    "\n",
    "    UV source: UV radiation source at 366nm\n",
    "\n",
    "    distance from UV source: 5cm, rotated every 30min.\n",
    "\n"
   ]
  },
  {
   "cell_type": "code",
   "execution_count": 18,
   "metadata": {},
   "outputs": [
    {
     "name": "stdout",
     "output_type": "stream",
     "text": [
      "function 'load_ms_csv' finished after 5.62s. ..\n",
      "\n"
     ]
    }
   ],
   "source": [
    "# import useful functions\n",
    "from datetime import date\n",
    "\n",
    "import matplotlib.pyplot as plt\n",
    "from utils.maldi_tof import load_ms_csv,plot_ms\n",
    "\n",
    "# path to data directory\n",
    "PATH = \"/Users/simon/Library/CloudStorage/OneDrive-LundUniversity/Synergy paper/click chemistry/data/MALDI ToF/AM1 C6SH metOH click chem 220411/Text files/\"\n",
    "\n",
    "# read data into dataframe object\n",
    "df = load_ms_csv(PATH)"
   ]
  },
  {
   "cell_type": "markdown",
   "metadata": {},
   "source": [
    "## Choosing spectra\n",
    "The following are the spectra measured:\n",
    "\n",
    "    reaction 2.0h 2\n",
    "\n",
    "    reaction 0.5h 2\n",
    "\n",
    "    cal1\n",
    "\n",
    "    reaction 4.0h 2\n",
    "\n",
    "    cal4\n",
    "\n",
    "    reaction 2.0h 1\n",
    "\n",
    "    reaction 0.5h 1\n",
    "\n",
    "    reaction 4.0h 1\n",
    "\n",
    "    cal5\n",
    "\n",
    "    cal3\n",
    "\n",
    "    reaction 0h 2\n",
    "\n",
    "    reaction 0h 1\n",
    "    \n",
    "    AM1 ctrl 1\n",
    "    \n",
    "    C6SH ctrl 1\n",
    "    \n",
    "    metOH ctrl 1\n",
    "    \n",
    "    reaction 1.0h 1\n",
    "    \n",
    "    DPAP ctrl 2\n",
    "    \n",
    "    C6SH ctrl 2\n",
    "    \n",
    "    AM1 ctrl 2\n",
    "    \n",
    "    metOH ctrl 2\n",
    "    \n",
    "    reaction 1.0h 2\n",
    "    \n",
    "    DPAP ctrl 1\n",
    "    \n",
    "    cal2"
   ]
  },
  {
   "cell_type": "code",
   "execution_count": 19,
   "metadata": {},
   "outputs": [
    {
     "data": {
      "text/plain": [
       "'\\nspectra = [\\n    \"reaction 4.0h 2\",\\n    \"AM1 ctrl 2\",\\n    \"DPAP ctrl 2\",\\n]\\n'"
      ]
     },
     "execution_count": 19,
     "metadata": {},
     "output_type": "execute_result"
    }
   ],
   "source": [
    "# decide on which spectra to show:\n",
    "\n",
    "\"\"\"\n",
    "plots = [\n",
    "    \"cal2\",\n",
    "    \"AM1 ctrl 2\",\n",
    "    \"DPAP ctrl 2\",\n",
    "    \"C6SH ctrl 2\",\n",
    "    \"metOH ctrl 1\",\n",
    "    \"metOH ctrl 2\",\n",
    "]\n",
    "\"\"\"\n",
    "\n",
    "\"\"\"\n",
    "plots = [\n",
    "    \"reaction 0h 2\",\n",
    "    \"reaction 0.5h 2\",\n",
    "    \"reaction 1.0h 1\",\n",
    "    \"reaction 2.0h 1\",\n",
    "    \"reaction 4.0h 1\",\n",
    "    \"AM1 ctrl 2\",\n",
    "    \"DPAP ctrl 2\",\n",
    "]\n",
    "\"\"\"\n",
    "\n",
    "spectra = [\n",
    "    \"reaction 0h 1\",\n",
    "    \"reaction 0.5h 1\",\n",
    "    \"reaction 1.0h 2\",\n",
    "    \"reaction 2.0h 2\",\n",
    "    \"reaction 4.0h 2\",\n",
    "    \"AM1 ctrl 2\",\n",
    "    \"DPAP ctrl 2\",\n",
    "]\n",
    "\n",
    "\"\"\"\n",
    "spectra = [\n",
    "    \"reaction 4.0h 2\",\n",
    "    \"AM1 ctrl 2\",\n",
    "    \"DPAP ctrl 2\",\n",
    "]\n",
    "\"\"\""
   ]
  },
  {
   "cell_type": "markdown",
   "metadata": {},
   "source": [
    "## Plots"
   ]
  },
  {
   "cell_type": "code",
   "execution_count": 23,
   "metadata": {},
   "outputs": [
    {
     "ename": "NameError",
     "evalue": "name 'df' is not defined",
     "output_type": "error",
     "traceback": [
      "\u001b[0;31m---------------------------------------------------------------------------\u001b[0m",
      "\u001b[0;31mNameError\u001b[0m                                 Traceback (most recent call last)",
      "\u001b[1;32m/Users/simon/Documents/Projects/utils/click_chem_analysis_220411.ipynb Cell 6'\u001b[0m in \u001b[0;36m<module>\u001b[0;34m\u001b[0m\n\u001b[1;32m      <a href='vscode-notebook-cell:/Users/simon/Documents/Projects/utils/click_chem_analysis_220411.ipynb#ch0000006?line=7'>8</a>\u001b[0m \u001b[39m# plot chosen spectra\u001b[39;00m\n\u001b[1;32m      <a href='vscode-notebook-cell:/Users/simon/Documents/Projects/utils/click_chem_analysis_220411.ipynb#ch0000006?line=8'>9</a>\u001b[0m plt\u001b[39m.\u001b[39mfigure(figsize\u001b[39m=\u001b[39m[\u001b[39m15\u001b[39m,\u001b[39m10\u001b[39m])\n\u001b[0;32m---> <a href='vscode-notebook-cell:/Users/simon/Documents/Projects/utils/click_chem_analysis_220411.ipynb#ch0000006?line=9'>10</a>\u001b[0m plot_ms(spectra, df)\n\u001b[1;32m     <a href='vscode-notebook-cell:/Users/simon/Documents/Projects/utils/click_chem_analysis_220411.ipynb#ch0000006?line=10'>11</a>\u001b[0m plt\u001b[39m.\u001b[39mshow()\n",
      "File \u001b[0;32m~/Documents/Projects/utils/maldi_tof.py:37\u001b[0m, in \u001b[0;36mplot_ms\u001b[0;34m(plots, check)\u001b[0m\n",
      "\u001b[0;31mNameError\u001b[0m: name 'df' is not defined"
     ]
    },
    {
     "data": {
      "text/plain": [
       "<Figure size 1080x720 with 0 Axes>"
      ]
     },
     "metadata": {},
     "output_type": "display_data"
    },
    {
     "data": {
      "image/png": "[encoded data removed]",
      "text/plain": [
       "<Figure size 720x576 with 7 Axes>"
      ]
     },
     "metadata": {
      "needs_background": "light"
     },
     "output_type": "display_data"
    }
   ],
   "source": [
    "# include some vertical lines for allyl-alpha-M1, DPAP, and product\n",
    "MW_AM1 = 243.08 # C9H16O6 + Na aduct\n",
    "MW_DPAP = 279.0997 # C16H16O3 + Na aduct\n",
    "MW_PRODUCT = 360.1583 # AM1 - H + C6H14S - H + Na aduct = C9H16O6_C6H13S + Na\n",
    "\n",
    "MWS = list([MW_AM1, MW_DPAP, MW_PRODUCT])\n",
    "\n",
    "# plot chosen spectra\n",
    "plt.figure(figsize=[15,10])\n",
    "plot_ms(plots = spectra, df = df)\n",
    "plt.show()"
   ]
  }
 ],
 "metadata": {
  "interpreter": {
   "hash": "b0fa6594d8f4cbf19f97940f81e996739fb7646882a419484c72d19e05852a7e"
  },
  "kernelspec": {
   "display_name": "Python 3.9.10 64-bit",
   "language": "python",
   "name": "python3"
  },
  "language_info": {
   "codemirror_mode": {
    "name": "ipython",
    "version": 3
   },
   "file_extension": ".py",
   "mimetype": "text/x-python",
   "name": "python",
   "nbconvert_exporter": "python",
   "pygments_lexer": "ipython3",
   "version": "3.9.10"
  },
  "orig_nbformat": 4
 },
 "nbformat": 4,
 "nbformat_minor": 2
}
