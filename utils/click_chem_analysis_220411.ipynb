{
 "cells": [
  {
   "cell_type": "markdown",
   "metadata": {},
   "source": [
    "## MALDI-ToF analysis of Click chem reaction carried out on 220411\n",
    "\n",
    "Reactants:\n",
    "\n",
    "    Thiol group: Hexanethiol, 15mM\n",
    "\n",
    "    -ene group: allyl-alpha-M1, 5mM\n",
    "\n",
    "    photo-initiator (pI): 1.5mM\n",
    "\n",
    "Reaction conditions:\n",
    "\n",
    "    solvent: met-OH\n",
    "\n",
    "    temp: RT\n",
    "\n",
    "    time points: [0, 1, 2, 4] hours\n",
    "\n"
   ]
  },
  {
   "cell_type": "code",
   "execution_count": null,
   "metadata": {},
   "outputs": [],
   "source": [
    "# import useful functions\n",
    "from datetime import date\n",
    "\n",
    "import matplotlib.pyplot as plt\n",
    "from utils.maldi_tof import load_ms_csv,plot_ms\n",
    "from utils.peaks import plot_vert\n",
    "\n",
    "# path to data directory\n",
    "PATH = \"/Users/simon/Library/CloudStorage/OneDrive-LundUniversity/Synergy paper/click chemistry/data/MALDI ToF/AM1 C6SH metOH click chem 220411/Text files/\"\n",
    "\n",
    "# read data into dataframe object\n",
    "df = load_ms_csv(PATH)"
   ]
  },
  {
   "cell_type": "markdown",
   "metadata": {},
   "source": []
  }
 ],
 "metadata": {
  "interpreter": {
   "hash": "b0fa6594d8f4cbf19f97940f81e996739fb7646882a419484c72d19e05852a7e"
  },
  "kernelspec": {
   "display_name": "Python 3.9.10 64-bit",
   "language": "python",
   "name": "python3"
  },
  "language_info": {
   "name": "python",
   "version": "3.9.10"
  },
  "orig_nbformat": 4
 },
 "nbformat": 4,
 "nbformat_minor": 2
}
