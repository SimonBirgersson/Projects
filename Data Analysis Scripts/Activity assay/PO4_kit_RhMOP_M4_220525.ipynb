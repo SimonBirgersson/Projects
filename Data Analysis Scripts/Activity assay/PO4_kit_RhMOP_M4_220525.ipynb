{
 "cells": [
  {
   "cell_type": "markdown",
   "metadata": {},
   "source": [
    "## Activity determination for *Rh*MOP against different oligo-mannosacharides\n",
    "\n",
    "    Carried out on 220525, by Simon Birgersson and Mathias Wiemann\n",
    "\n",
    "\n",
    "*Lund university, Center for Molecular Protein Science (CMPS), Henrik Stålbrand Group.*\n",
    "\n",
    "*** \n",
    "**Purpose:**  \n",
    "\n",
    "To determine acitivty for the *Rosburia hominis* mannophosporylase (*Rh*MOP) against different oligo-mannosacharides (MO:s).  \n",
    "The idea is to see whether or not the enzyme prefers longer or shorter substrates, to fit into the discussion being prepared in the *R. hominis* cluster paper being constructed in the group currently.\n",
    "\n",
    "    \n",
    "\n",
    "* **Enzyme:** *Rh*MOP, stock from MW, 0.14 mg/ml in reaction\n",
    "* **Substrate:** M2, M4, M5 10mM in reaction\n",
    "* **Phosphate:** 10mM PO4 in reaction\n",
    "* **Buffer:** 50mM Sodium Citrate pH 5.5\n",
    "* **Time:** [0, 10] min sample points\n",
    "* **Temperature:** T = 37°C\n",
    "* **Absorbance** measured at  $\\lambda$ = 620 nm\n",
    "* Experiments carried out in 96 well sample plate\n"
   ]
  },
  {
   "cell_type": "markdown",
   "metadata": {},
   "source": [
    "## Assay Protocol\n",
    "\n",
    "1. Dilution of phosphate standard series. prepare 1 ml of 40 μM *Phosphate Premix solution* by mixing 40 μl of 1 mM phosphate standard solution with 960 μl of ultrapure H2O. Number each standard tube. Prepare 8 standard solution by mixing the *premix solution* and H2O according to the table below:\n",
    "\n",
    "| # | Premix + H2O   | Final vol. [μl] | Phosphate conc [μM] | pmoles phosphate in 50 μl |\n",
    "|---|----------------|-----------------|---------------------|---------------------------|\n",
    "| 1 | 200 μl + 0 μl  | 200             | 40                  | 2.000                     |\n",
    "| 2 | 160 μl + 40 μl | 200             | 32                  | 1.600                     |\n",
    "| 3 | 120 μl + 80 μl | 200             | 24                  | 1.200                     |\n",
    "| 4 | 80 μl + 120 μl | 200             | 16                  | 800                       |\n",
    "| 5 | 60 μl + 140 μl | 200             | 12                  | 600                       |\n",
    "| 6 | 40 μl + 160 μl | 200             | 8                   | 400                       |\n",
    "| 7 | 20 μl + 180 μl | 200             | 4                   | 200                       |\n",
    "| 8 | 0 μl + 200 μl  | 200             | 0                   | 0                         |\n",
    "\n",
    "2. Transfer 50 μl of test sample (e.g, enzyme reaction) in duplicate into wells of the microplate. In the case of enzyme reactions, the reactions may be terminated by either adding a specific inhibitor or can be stopped directly by the addition of the *Malachite Green Reagent*. Reaction buffer can be added as a blank control for the samples.\n",
    "\n",
    "3. Add 100 μl of the *Malachite Green Reagent* to each well. Mix by tapping the plate.\n",
    "\n",
    "4. Incubate for 30 min at Room Temperature (RT)  for color development.\n",
    "\n",
    "5. Measure absorbance at $\\lambda$ = 600-660 nm on plate reader."
   ]
  },
  {
   "cell_type": "code",
   "execution_count": 1,
   "metadata": {},
   "outputs": [],
   "source": [
    "# initalization \n",
    "from utils.activity_assay import Standard,Enzyme # classes for storing data\n",
    "import matplotlib.pyplot as plt # module for plotting data\n",
    "import numpy as np # module for matrix operations\n",
    "import pandas as pd"
   ]
  },
  {
   "cell_type": "markdown",
   "metadata": {},
   "source": [
    "## Standard data\n",
    "Here is where is input the standard data and handle raw data input, blanks, eventual points to remove, etc.\n",
    "\n",
    "The class initilaztion will create std_name.fit, a regr object fitting the data to the equation:\n",
    "\n",
    "$abs = c * slope + intercept$ \n",
    "\n",
    "and provide *slope* and *intercept* as callable variables, i.e \"*std_name.fit.slope*\""
   ]
  },
  {
   "cell_type": "code",
   "execution_count": 2,
   "metadata": {},
   "outputs": [
    {
     "name": "stdout",
     "output_type": "stream",
     "text": [
      "Standard Data: \n",
      "    μM  abs #1  abs #2  mean [AU]  +/- [AU]\n",
      "0   4   0.033   0.042     0.0375    0.0045\n",
      "1   6   0.095   0.099     0.0970    0.0020\n",
      "2  12   0.173   0.179     0.1760    0.0030\n",
      "3  16   0.245   0.254     0.2495    0.0045\n",
      "4  24   0.388   0.397     0.3925    0.0045\n",
      "5  32   0.513   0.547     0.5300    0.0170\n",
      "6  40   0.671   0.680     0.6755    0.0045  \n",
      "\n",
      "Resulting std equation is:\n",
      "\n",
      "    abs = c * 0.02 + -0.03\n",
      "\n",
      "With an R^2 of 0.9986\n"
     ]
    }
   ],
   "source": [
    "# Standard data\n",
    "# concentration values for standard series of PNP [uM]\n",
    "std_c   = np.array([4,6,12,16,24,32,40])# [uM]\n",
    "\n",
    "# raw data for std curve, absorbance values minus mean of blanks [AU]\n",
    "std_abs = np.array([[0.266, 0.328, 0.406, 0.478, 0.621, 0.746, 0.904], [0.275, 0.332, 0.412, 0.487, 0.630, 0.780, 0.913]])-np.array([0.223, 0.243]).mean()\n",
    "\n",
    "# initialize standard object with measured absorbances.          \n",
    "std = Standard(\n",
    "        absorbance=std_abs,\n",
    "        concentration=std_c,\n",
    "        x_unit=\"μM\",\n",
    "        y_unit=\"AU\",\n",
    "    )\n",
    "\n",
    "\n",
    "print(std) # show data in \"table\""
   ]
  },
  {
   "cell_type": "markdown",
   "metadata": {},
   "source": [
    "## Sample data\n",
    "Here I input the raw data for my sample, same here all the raw data processing is done here before analysis. The standard equation in std.fit is inputted to get fitted concentrations for the sample. "
   ]
  },
  {
   "cell_type": "code",
   "execution_count": 3,
   "metadata": {},
   "outputs": [
    {
     "name": "stdout",
     "output_type": "stream",
     "text": [
      "                    RhMOP incubated with mannobiose\n",
      "abs #1                                     2.215000\n",
      "abs #2                                     1.531000\n",
      "abs #3                                     1.635000\n",
      "mean [AU]                                  1.793667\n",
      "+/- [AU]                                   0.300938\n",
      "conc. analyte [μM]                       104.444626\n",
      "+/- [μM]                                  18.720884\n",
      "activity [nkat/ml]                      1258.930755\n",
      "+/- [nkat/ml]                              0.000000\n",
      "                    RhMOP incubated with mannobiose MW\n",
      "abs #1                                        0.280500\n",
      "abs #2                                        0.286500\n",
      "abs #3                                        0.000500\n",
      "mean [AU]                                     0.189167\n",
      "+/- [AU]                                      0.133430\n",
      "conc. analyte [μM]                           12.302144\n",
      "+/- [μM]                                      9.101322\n",
      "activity [nkat/ml]                          148.284768\n",
      "+/- [nkat/ml]                                 0.000000\n"
     ]
    }
   ],
   "source": [
    "# Sample data\n",
    "\n",
    "# dilution factors of protein stock\n",
    "sample_dil = np.array([8.1/0.14*125]) # dilution factor\n",
    "\n",
    "# stock enzyme concentration\n",
    "RhMOP_stock_conc = 8.1 # mg/ml\n",
    "\n",
    "# raw data for samples, absorbance values minus mean of enzyme blanks [AU]\n",
    "RhMOP_M4_abs_0min  = np.array([[0.264],[0.261],[0.250]])-np.array([0.229,0.226]).mean() # [AU]\n",
    "RhMOP_M4_abs_10min = np.array([[2.479],[1.792],[1.885]])-np.array([0.228,0.227]).mean() # [AU]\n",
    "\n",
    "#initialize Enzyme objects\n",
    "RhMOP_M4 = Enzyme(absorbance = RhMOP_M4_abs_10min - RhMOP_M4_abs_0min,\n",
    "                Name= \"RhMOP incubated with mannobiose\",\n",
    "                regr=std.fit,\n",
    "                time=10.0,\n",
    "                dilution_factor=sample_dil,\n",
    "                x_unit = \"μM\",\n",
    "            )\n",
    "\n",
    "# raw data for samples, absorbance values minus mean of enzyme blanks [AU]\n",
    "RhMOP_M4_abs_0min_MW  = np.array([[0.235],[0.233],[0.236]])-np.array([0.233,0.236]).mean() # [AU]\n",
    "RhMOP_M4_abs_10min_MW = np.array([[0.511],[0.515],[0.232]])-np.array([0.232,0.228]).mean() # [AU]\n",
    "\n",
    "#initialize Enzyme objects\n",
    "RhMOP_M4_MW = Enzyme(absorbance = RhMOP_M4_abs_10min_MW - RhMOP_M4_abs_0min_MW,\n",
    "                Name= \"RhMOP incubated with mannobiose MW\",\n",
    "                regr=std.fit,\n",
    "                time=10.0,\n",
    "                dilution_factor=sample_dil,\n",
    "                x_unit = \"μM\",\n",
    "            )\n",
    "\n",
    "print(RhMOP_M4.df.T) # show data in \"table\"\n",
    "print(RhMOP_M4_MW.df.T) # show data in \"table\""
   ]
  },
  {
   "cell_type": "code",
   "execution_count": 4,
   "metadata": {},
   "outputs": [
    {
     "data": {
      "image/png": "[encoded data removed]",
      "text/plain": [
       "<Figure size 1080x720 with 1 Axes>"
      ]
     },
     "metadata": {
      "needs_background": "light"
     },
     "output_type": "display_data"
    },
    {
     "name": "stdout",
     "output_type": "stream",
     "text": [
      "                    RhMOP incubated with mannobiose  \\\n",
      "abs #1                                     2.215000   \n",
      "abs #2                                     1.531000   \n",
      "abs #3                                     1.635000   \n",
      "mean [AU]                                  1.793667   \n",
      "+/- [AU]                                   0.300938   \n",
      "conc. analyte [μM]                       104.444626   \n",
      "+/- [μM]                                  18.720884   \n",
      "activity [nkat/ml]                      1258.930755   \n",
      "+/- [nkat/ml]                              0.000000   \n",
      "\n",
      "                    RhMOP incubated with mannobiose MW  \n",
      "abs #1                                        0.280500  \n",
      "abs #2                                        0.286500  \n",
      "abs #3                                        0.000500  \n",
      "mean [AU]                                     0.189167  \n",
      "+/- [AU]                                      0.133430  \n",
      "conc. analyte [μM]                           12.302144  \n",
      "+/- [μM]                                      9.101322  \n",
      "activity [nkat/ml]                          148.284768  \n",
      "+/- [nkat/ml]                                 0.000000  \n"
     ]
    }
   ],
   "source": [
    "# Print the results:\n",
    "plt.figure(figsize=[15,10]) # create figure object\n",
    "plt.style.use('ggplot')\n",
    "\n",
    " # plot sample data in current fig\n",
    "RhMOP_M4.plot() \n",
    "RhMOP_M4_MW.plot() \n",
    "\n",
    "# plot std data in current fig\n",
    "std.plot() \n",
    "\n",
    "# render figure object\n",
    "plt.show() \n",
    "\n",
    "df = pd.DataFrame()\n",
    "df[RhMOP_M4.name] = RhMOP_M4.df.transpose()\n",
    "df[RhMOP_M4_MW.name] = RhMOP_M4_MW.df.transpose()\n",
    "print(df)"
   ]
  },
  {
   "cell_type": "markdown",
   "metadata": {},
   "source": [
    "## Conclusions\n",
    "<p> "
   ]
  }
 ],
 "metadata": {
  "interpreter": {
   "hash": "b0fa6594d8f4cbf19f97940f81e996739fb7646882a419484c72d19e05852a7e"
  },
  "kernelspec": {
   "display_name": "Python 3.9.10 64-bit",
   "language": "python",
   "name": "python3"
  },
  "language_info": {
   "codemirror_mode": {
    "name": "ipython",
    "version": 3
   },
   "file_extension": ".py",
   "mimetype": "text/x-python",
   "name": "python",
   "nbconvert_exporter": "python",
   "pygments_lexer": "ipython3",
   "version": "3.9.10"
  },
  "orig_nbformat": 4
 },
 "nbformat": 4,
 "nbformat_minor": 2
}
