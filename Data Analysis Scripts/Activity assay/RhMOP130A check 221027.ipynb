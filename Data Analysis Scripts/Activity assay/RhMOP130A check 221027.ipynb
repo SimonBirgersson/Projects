{
 "cells": [
  {
   "cell_type": "markdown",
   "metadata": {},
   "source": [
    "## Activity determination for *Rh*MOP against different oligo-mannosacharides\n",
    "\n",
    "    Carried out on 221027, by Simon Birgersson\n",
    "\n",
    "\n",
    "*Lund university, Center for Molecular Protein Science (CMPS), Henrik Stålbrand Group.*\n",
    "\n",
    "*** \n",
    "**Purpose:**  \n",
    "\n",
    "To determine remaining acitivty for the *Rosburia hominis* GH130 mannophosporylase (*Rh*MOP) against different oligo-mannosacharides (MO:s).  \n",
    "\n",
    "# Incubation  protocol\n",
    "* **Enzyme:** *Rh*MOP, stock from MW, 0.14 mg/ml in reaction\n",
    "* **Substrate:** M2 / AM1 10mM in reaction\n",
    "* **Phosphate source:** 10mM Mannose-1-phosphate (M1P) in reaction\n",
    "* **Buffer:** 100mM Sodium Citrate pH 5.5 / 100mM TRIS-HCl pH 7.4\n",
    "* **Time:** [0, 10] min sample points\n",
    "* **Temperature:** T = 37°C\n",
    "* **Absorbance** measured at  $\\lambda$ = 620 nm\n",
    "* Experiments carried out in 96 well sample plate, reaction volume 60 $\\mu$ L\n",
    "\n",
    "## Assay Protocol\n",
    "\n",
    "1. Dilution of phosphate standard series. prepare 1 ml of 40 μM *Phosphate Premix solution* by mixing 40 μl of 1 mM phosphate standard solution with 960 μl of ultrapure H2O. Number each standard tube. Prepare 8 standard solution by mixing the *premix solution* and H2O according to the table below:\n",
    "\n",
    "| # | Premix + H2O   | Final vol. [μl] | Phosphate conc [μM] | pmoles phosphate in 50 μl |\n",
    "|---|----------------|-----------------|---------------------|---------------------------|\n",
    "| 1 | 200 μl + 0 μl  | 200             | 40                  | 2.000                     |\n",
    "| 2 | 160 μl + 40 μl | 200             | 32                  | 1.600                     |\n",
    "| 3 | 120 μl + 80 μl | 200             | 24                  | 1.200                     |\n",
    "| 4 | 80 μl + 120 μl | 200             | 16                  | 800                       |\n",
    "| 5 | 60 μl + 140 μl | 200             | 12                  | 600                       |\n",
    "| 6 | 40 μl + 160 μl | 200             | 8                   | 400                       |\n",
    "| 7 | 20 μl + 180 μl | 200             | 4                   | 200                       |\n",
    "| 8 | 0 μl + 200 μl  | 200             | 0                   | 0                         |\n",
    "\n",
    "2. Transfer 50 μl of test sample (e.g, enzyme reaction) in duplicate into wells of the microplate. In the case of enzyme reactions, the reactions may be terminated by either adding a specific inhibitor or can be stopped directly by the addition of the *Malachite Green Reagent*. Reaction buffer can be added as a blank control for the samples.\n",
    "\n",
    "3. Add 100 μl of the *Malachite Green Reagent* to each well. Mix by tapping the plate.\n",
    "\n",
    "4. Incubate for 30 min at Room Temperature (RT)  for color development.\n",
    "\n",
    "5. Measure absorbance at $\\lambda$ = 600-660 nm on plate reader."
   ]
  },
  {
   "cell_type": "code",
   "execution_count": 1,
   "metadata": {},
   "outputs": [],
   "source": [
    "# initalization \n",
    "from utils.activity_assay import Standard,Enzyme # classes for storing data\n",
    "import matplotlib.pyplot as plt # module for plotting data\n",
    "import numpy as np # module for matrix operations\n",
    "import pandas as pd"
   ]
  },
  {
   "cell_type": "markdown",
   "metadata": {},
   "source": [
    "## Standard data\n",
    "Here is where is input the standard data and handle raw data input, blanks, eventual points to remove, etc.\n",
    "\n",
    "The class initilaztion will create std_name.fit, a regr object fitting the data to the equation:\n",
    "\n",
    "$abs = c * slope + intercept$ \n",
    "\n",
    "and provide *slope* and *intercept* as callable variables, i.e \"*std_name.fit.slope*\""
   ]
  },
  {
   "cell_type": "code",
   "execution_count": 2,
   "metadata": {},
   "outputs": [
    {
     "name": "stdout",
     "output_type": "stream",
     "text": [
      "Standard Data: \n",
      "    μM  abs #1  abs #2  mean [AU]  +/- [AU]\n",
      "0   4  0.0365  0.0345     0.0355    0.0010\n",
      "1   6  0.0945  0.1035     0.0990    0.0045\n",
      "2  12  0.1835  0.1525     0.1680    0.0155\n",
      "3  16  0.2215  0.2115     0.2165    0.0050\n",
      "4  24  0.3345  0.3285     0.3315    0.0030\n",
      "5  32  0.4415  0.4765     0.4590    0.0175\n",
      "6  40  0.5435  0.5905     0.5670    0.0235  \n",
      "\n",
      "Resulting std equation is:\n",
      "\n",
      "    abs = c * 0.01 + -0.01\n",
      "\n",
      "With an R^2 of 0.9967\n"
     ]
    }
   ],
   "source": [
    "# Standard data for RhMOP+M4\n",
    "# concentration values for standard series of PNP [uM]\n",
    "std_c   = np.array([4,6,12,16,24,32,40])# [uM]\n",
    "\n",
    "# raw data for std curve, absorbance values minus mean of blanks [AU]\n",
    "std_abs = np.array([[0.188, 0.246, 0.335, 0.373, 0.486, 0.593, 0.695], [0.186, 0.255, 0.304, 0.363, 0.480, 0.628, 0.742]])-np.array([0.149, 0.154]).mean()\n",
    "\n",
    "# initialize standard object with measured absorbances.          \n",
    "std = Standard(\n",
    "        absorbance=std_abs,\n",
    "        concentration=std_c,\n",
    "        x_unit=\"μM\",\n",
    "        y_unit=\"AU\",\n",
    "    )\n",
    "\n",
    "\n",
    "print(std) # show data in \"table\""
   ]
  },
  {
   "cell_type": "markdown",
   "metadata": {},
   "source": [
    "## Sample data\n",
    "Here I input the raw data for my sample, same here all the raw data processing is done here before analysis. The standard equation in std.fit is inputted to get fitted concentrations for the sample. "
   ]
  },
  {
   "cell_type": "code",
   "execution_count": 3,
   "metadata": {},
   "outputs": [
    {
     "name": "stdout",
     "output_type": "stream",
     "text": [
      "1\n",
      "                             RhMOP130A + M2 in TRIS\n",
      "abs #1                                     0.032500\n",
      "abs #2                                     0.027500\n",
      "abs #3                                     0.024500\n",
      "mean [AU]                                  0.028167\n",
      "+/- [AU]                                   0.003300\n",
      "conc. analyte [μM]                         2.448335\n",
      "+/- [μM]                                   0.717898\n",
      "conc [nM]                               2448.334843\n",
      "+/- [nM]                                 717.898446\n",
      "conc [nmol/ml]                             2.448335\n",
      "+/- [nmol/ml]                              0.717898\n",
      "activity in assay [nkat/ml]                0.004081\n",
      "+/- in assay [nkat/ml]                     0.001196\n",
      "activity [nkat/ml]                        30.604186\n",
      "+/- [nkat/ml]                              8.973731\n"
     ]
    }
   ],
   "source": [
    "# Sample data for RhMOP + M2 in 100mM TRIS-HCl pH 7.4\n",
    "\n",
    "# dilution factors of protein stock\n",
    "sample_dil = np.array([60*125]) # dilution factor\n",
    "\n",
    "# stock enzyme concentration\n",
    "RhMOP_stock_conc = 8.1 # mg/ml\n",
    "\n",
    "# raw data for samples, absorbance values minus mean of enzyme blanks [AU]\n",
    "RhMOP_M2_TRIS_0min  = np.array([[0.170],[0.167],[0.166]])-np.array([0.152,0.153]).mean() # [AU]\n",
    "RhMOP_M2_TRIS_10min = np.array([[0.203],[0.195],[0.191]])-np.array([0.152,0.154]).mean() # [AU]\n",
    "\n",
    "#initialize Enzyme objects\n",
    "RhMOP_M2_TRIS = Enzyme(absorbance = RhMOP_M2_TRIS_10min - RhMOP_M2_TRIS_0min,\n",
    "                Name= \"RhMOP130A + M2 in TRIS\",\n",
    "                regr=std.fit,\n",
    "                time=10.0,\n",
    "                dilution_factor=sample_dil,\n",
    "                enzyme_stock_conc= RhMOP_stock_conc,\n",
    "                x_unit = \"μM\",\n",
    "            )\n",
    "#RhMOP_M4.df[\"spec. activity [nkat/mg]\"] = RhMOP_M4.df[\"activity [nkat/ml]\"]/RhMOP_stock_conc\n",
    "\n",
    "print(RhMOP_M2_TRIS.df.T) # show data in \"table\""
   ]
  },
  {
   "cell_type": "code",
   "execution_count": 4,
   "metadata": {},
   "outputs": [
    {
     "name": "stdout",
     "output_type": "stream",
     "text": [
      "1\n",
      "                             RhMOP130A + M2 in NaCitr\n",
      "abs #1                                       0.069500\n",
      "abs #2                                       0.132500\n",
      "abs #3                                       0.161500\n",
      "mean [AU]                                    0.121167\n",
      "+/- [AU]                                     0.038404\n",
      "conc. analyte [μM]                           8.920030\n",
      "+/- [μM]                                     3.160751\n",
      "conc [nM]                                 8920.030367\n",
      "+/- [nM]                                  3160.751299\n",
      "conc [nmol/ml]                               8.920030\n",
      "+/- [nmol/ml]                                3.160751\n",
      "activity in assay [nkat/ml]                  0.014867\n",
      "+/- in assay [nkat/ml]                       0.005268\n",
      "activity [nkat/ml]                         111.500380\n",
      "+/- [nkat/ml]                               39.509391\n"
     ]
    }
   ],
   "source": [
    "# Sample data for RhMOP + M2 in 100mM sodium citrate pH 5.5\n",
    "\n",
    "# dilution factors of protein stock\n",
    "sample_dil = np.array([60*125]) # dilution factor\n",
    "\n",
    "# stock enzyme concentration\n",
    "RhMOP_stock_conc = 8.1 # mg/ml\n",
    "\n",
    "# raw data for samples, absorbance values minus mean of enzyme blanks [AU]\n",
    "RhMOP_M2_citr_0min  = np.array([[0.152],[0.157],[0.152]])-np.array([0.152,0.153]).mean() # [AU]\n",
    "RhMOP_M2_citr_10min = np.array([[0.222],[0.290],[0.314]])-np.array([0.152,0.154]).mean() # [AU]\n",
    "\n",
    "#initialize Enzyme objects\n",
    "RhMOP_M2_citr = Enzyme(absorbance = RhMOP_M2_citr_10min - RhMOP_M2_citr_0min,\n",
    "                Name= \"RhMOP130A + M2 in NaCitr\",\n",
    "                regr=std.fit,\n",
    "                time=10.0,\n",
    "                dilution_factor=sample_dil,\n",
    "                enzyme_stock_conc= RhMOP_stock_conc,\n",
    "                x_unit = \"μM\",\n",
    "            )\n",
    "#RhMOP_M4.df[\"spec. activity [nkat/mg]\"] = RhMOP_M4.df[\"activity [nkat/ml]\"]/RhMOP_stock_conc\n",
    "\n",
    "print(RhMOP_M2_citr.df.T) # show data in \"table\""
   ]
  },
  {
   "cell_type": "code",
   "execution_count": 5,
   "metadata": {},
   "outputs": [
    {
     "name": "stdout",
     "output_type": "stream",
     "text": [
      "1\n",
      "                             RhMOP130A + AM1 in TRIS\n",
      "abs #1                                      0.016000\n",
      "abs #2                                      0.015000\n",
      "abs #3                                      0.019000\n",
      "mean [AU]                                   0.016667\n",
      "+/- [AU]                                    0.001700\n",
      "conc. analyte [μM]                          1.648071\n",
      "+/- [μM]                                    0.606546\n",
      "conc [nM]                                1648.071417\n",
      "+/- [nM]                                  606.546419\n",
      "conc [nmol/ml]                              1.648071\n",
      "+/- [nmol/ml]                               0.606546\n",
      "activity in assay [nkat/ml]                 0.002747\n",
      "+/- in assay [nkat/ml]                      0.001011\n",
      "activity [nkat/ml]                         20.600893\n",
      "+/- [nkat/ml]                               7.581830\n"
     ]
    }
   ],
   "source": [
    "# Sample data for RhMOP + AM1 in 100mM TRIS-HCl pH 7.4\n",
    "\n",
    "# dilution factors of protein stock\n",
    "sample_dil = np.array([60*125]) # dilution factor\n",
    "\n",
    "# stock enzyme concentration\n",
    "RhMOP_stock_conc = 8.1 # mg/ml\n",
    "\n",
    "# raw data for samples, absorbance values minus mean of enzyme blanks [AU]\n",
    "RhMOP_AM1_TRIS_0min  = np.array([[0.158],[0.155],[0.156]])-np.array([0.154,0.156]).mean() # [AU]\n",
    "RhMOP_AM1_TRIS_10min = np.array([[0.173],[0.169],[0.174]])-np.array([0.152,0.156]).mean() # [AU]\n",
    "\n",
    "#initialize Enzyme objects\n",
    "RhMOP_AM1_TRIS = Enzyme(absorbance = RhMOP_AM1_TRIS_10min - RhMOP_AM1_TRIS_0min,\n",
    "                Name= \"RhMOP130A + AM1 in TRIS\",\n",
    "                regr=std.fit,\n",
    "                time=10.0,\n",
    "                dilution_factor=sample_dil,\n",
    "                enzyme_stock_conc= RhMOP_stock_conc,\n",
    "                x_unit = \"μM\",\n",
    "            )\n",
    "#RhMOP_M4.df[\"spec. activity [nkat/mg]\"] = RhMOP_M4.df[\"activity [nkat/ml]\"]/RhMOP_stock_conc\n",
    "\n",
    "print(RhMOP_AM1_TRIS.df.T) # show data in \"table\""
   ]
  },
  {
   "cell_type": "code",
   "execution_count": 6,
   "metadata": {},
   "outputs": [
    {
     "name": "stdout",
     "output_type": "stream",
     "text": [
      "1\n",
      "                             RhMOP130A + AM1 in NaCitr\n",
      "abs #1                                        0.036000\n",
      "abs #2                                        0.014000\n",
      "abs #3                                        0.016000\n",
      "mean [AU]                                     0.022000\n",
      "+/- [AU]                                      0.009933\n",
      "conc. analyte [μM]                            2.019208\n",
      "+/- [μM]                                      1.179496\n",
      "conc [nM]                                  2019.208078\n",
      "+/- [nM]                                   1179.495815\n",
      "conc [nmol/ml]                                2.019208\n",
      "+/- [nmol/ml]                                 1.179496\n",
      "activity in assay [nkat/ml]                   0.003365\n",
      "+/- in assay [nkat/ml]                        0.001966\n",
      "activity [nkat/ml]                           25.240101\n",
      "+/- [nkat/ml]                                14.743698\n"
     ]
    }
   ],
   "source": [
    "# Sample data for RhMOP + AM1 in 100mM sodium citrate pH 5.5\n",
    "\n",
    "# dilution factors of protein stock\n",
    "sample_dil = np.array([60*125]) # dilution factor\n",
    "\n",
    "# stock enzyme concentration\n",
    "RhMOP_stock_conc = 8.1 # mg/ml\n",
    "\n",
    "# raw data for samples, absorbance values minus mean of enzyme blanks [AU]\n",
    "RhMOP_AM1_citr_0min  = np.array([[0.152],[0.157],[0.152]])-np.array([0.152,0.154]).mean() # [AU]\n",
    "RhMOP_AM1_citr_10min = np.array([[0.189],[0.172],[0.169]])-np.array([0.152,0.156]).mean() # [AU]\n",
    "\n",
    "#initialize Enzyme objects\n",
    "RhMOP_AM1_citr = Enzyme(absorbance = RhMOP_AM1_citr_10min - RhMOP_AM1_citr_0min,\n",
    "                Name= \"RhMOP130A + AM1 in NaCitr\",\n",
    "                regr=std.fit,\n",
    "                time=10.0,\n",
    "                dilution_factor=sample_dil,\n",
    "                enzyme_stock_conc= RhMOP_stock_conc,\n",
    "                x_unit = \"μM\",\n",
    "            )\n",
    "#RhMOP_M4.df[\"spec. activity [nkat/mg]\"] = RhMOP_M4.df[\"activity [nkat/ml]\"]/RhMOP_stock_conc\n",
    "\n",
    "print(RhMOP_AM1_citr.df.T) # show data in \"table\""
   ]
  },
  {
   "cell_type": "code",
   "execution_count": 7,
   "metadata": {},
   "outputs": [
    {
     "data": {
      "image/png": "[encoded data removed]",
      "text/plain": [
       "<Figure size 1080x720 with 1 Axes>"
      ]
     },
     "metadata": {
      "needs_background": "light"
     },
     "output_type": "display_data"
    },
    {
     "name": "stdout",
     "output_type": "stream",
     "text": [
      "                             RhMOP130A + M2 in TRIS  RhMOP130A + M2 in NaCitr  \\\n",
      "abs #1                                     0.032500                  0.069500   \n",
      "abs #2                                     0.027500                  0.132500   \n",
      "abs #3                                     0.024500                  0.161500   \n",
      "mean [AU]                                  0.028167                  0.121167   \n",
      "+/- [AU]                                   0.003300                  0.038404   \n",
      "conc. analyte [μM]                         2.448335                  8.920030   \n",
      "+/- [μM]                                   0.717898                  3.160751   \n",
      "conc [nM]                               2448.334843               8920.030367   \n",
      "+/- [nM]                                 717.898446               3160.751299   \n",
      "conc [nmol/ml]                             2.448335                  8.920030   \n",
      "+/- [nmol/ml]                              0.717898                  3.160751   \n",
      "activity in assay [nkat/ml]                0.004081                  0.014867   \n",
      "+/- in assay [nkat/ml]                     0.001196                  0.005268   \n",
      "activity [nkat/ml]                        30.604186                111.500380   \n",
      "+/- [nkat/ml]                              8.973731                 39.509391   \n",
      "\n",
      "                             RhMOP130A + AM1 in TRIS  \\\n",
      "abs #1                                      0.016000   \n",
      "abs #2                                      0.015000   \n",
      "abs #3                                      0.019000   \n",
      "mean [AU]                                   0.016667   \n",
      "+/- [AU]                                    0.001700   \n",
      "conc. analyte [μM]                          1.648071   \n",
      "+/- [μM]                                    0.606546   \n",
      "conc [nM]                                1648.071417   \n",
      "+/- [nM]                                  606.546419   \n",
      "conc [nmol/ml]                              1.648071   \n",
      "+/- [nmol/ml]                               0.606546   \n",
      "activity in assay [nkat/ml]                 0.002747   \n",
      "+/- in assay [nkat/ml]                      0.001011   \n",
      "activity [nkat/ml]                         20.600893   \n",
      "+/- [nkat/ml]                               7.581830   \n",
      "\n",
      "                             RhMOP130A + AM1 in NaCitr  \n",
      "abs #1                                        0.036000  \n",
      "abs #2                                        0.014000  \n",
      "abs #3                                        0.016000  \n",
      "mean [AU]                                     0.022000  \n",
      "+/- [AU]                                      0.009933  \n",
      "conc. analyte [μM]                            2.019208  \n",
      "+/- [μM]                                      1.179496  \n",
      "conc [nM]                                  2019.208078  \n",
      "+/- [nM]                                   1179.495815  \n",
      "conc [nmol/ml]                                2.019208  \n",
      "+/- [nmol/ml]                                 1.179496  \n",
      "activity in assay [nkat/ml]                   0.003365  \n",
      "+/- in assay [nkat/ml]                        0.001966  \n",
      "activity [nkat/ml]                           25.240101  \n",
      "+/- [nkat/ml]                                14.743698  \n"
     ]
    }
   ],
   "source": [
    "# Print the results:\n",
    "plt.figure(figsize=[15,10]) # create figure object\n",
    "plt.style.use('ggplot')\n",
    "\n",
    " # plot sample data in current fig\n",
    "RhMOP_M2_TRIS.plot() \n",
    "RhMOP_AM1_TRIS.plot() \n",
    "RhMOP_M2_citr.plot() \n",
    "RhMOP_AM1_citr.plot() \n",
    "\n",
    "\n",
    "# plot std data in current fig\n",
    "std.plot() \n",
    "\n",
    "# render figure object\n",
    "plt.show() \n",
    "\n",
    "# present all data as table\n",
    "df = pd.DataFrame()\n",
    "df[RhMOP_M2_TRIS.name] = RhMOP_M2_TRIS.df.transpose()\n",
    "df[RhMOP_M2_citr.name] = RhMOP_M2_citr.df.transpose()\n",
    "df[RhMOP_AM1_TRIS.name] = RhMOP_AM1_TRIS.df.transpose()\n",
    "df[RhMOP_AM1_citr.name] = RhMOP_AM1_citr.df.transpose()\n",
    "print(df)"
   ]
  },
  {
   "cell_type": "markdown",
   "metadata": {},
   "source": [
    "## Conclusions\n",
    "<p> "
   ]
  }
 ],
 "metadata": {
  "kernelspec": {
   "display_name": "Python 3.9.7 ('base')",
   "language": "python",
   "name": "python3"
  },
  "language_info": {
   "codemirror_mode": {
    "name": "ipython",
    "version": 3
   },
   "file_extension": ".py",
   "mimetype": "text/x-python",
   "name": "python",
   "nbconvert_exporter": "python",
   "pygments_lexer": "ipython3",
   "version": "3.9.7"
  },
  "orig_nbformat": 4,
  "vscode": {
   "interpreter": {
    "hash": "a0929711d380e35192f4cb7fc35982659e488768c1797b656fc22286d7128f20"
   }
  }
 },
 "nbformat": 4,
 "nbformat_minor": 2
}
